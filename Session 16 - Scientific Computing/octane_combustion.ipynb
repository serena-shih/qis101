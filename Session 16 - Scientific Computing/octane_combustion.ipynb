{
 "cells": [
  {
   "cell_type": "code",
   "execution_count": 1,
   "metadata": {},
   "outputs": [],
   "source": [
    "\"\"\"octane_combustion.ipynb\"\"\"\n",
    "\n",
    "# Cell 1 - Integer Optimization (copied from stoichiometry.ipynb)\n",
    "\n",
    "import pulp\n",
    "\n",
    "\n",
    "def init_prob(terms):\n",
    "    # The goal is to minimize total atom count (POAC)\n",
    "    # https://www.quantumstudy.com/chemistry/stoichiometry\n",
    "    prob = pulp.LpProblem(sense=pulp.LpMinimize)\n",
    "\n",
    "    # Create decision variables (terms in chemical equation, +1 if ionic)\n",
    "    # Each term coefficient must ultimately be an integer > 1\n",
    "    x0, x1, x2, x3, x4, x5 = ((None),) * 6\n",
    "    if terms >= 4:\n",
    "        x0 = pulp.LpVariable(name=\"x0\", lowBound=1, cat=\"Integer\")\n",
    "        x1 = pulp.LpVariable(name=\"x1\", lowBound=1, cat=\"Integer\")\n",
    "        x2 = pulp.LpVariable(name=\"x2\", lowBound=1, cat=\"Integer\")\n",
    "        x3 = pulp.LpVariable(name=\"x3\", lowBound=1, cat=\"Integer\")\n",
    "    if terms >= 5:\n",
    "        x4 = pulp.LpVariable(name=\"x4\", lowBound=1, cat=\"Integer\")\n",
    "    if terms >= 6:\n",
    "        x5 = pulp.LpVariable(name=\"x5\", lowBound=1, cat=\"Integer\")\n",
    "\n",
    "    # Define objective function based upon number of terms\n",
    "    if terms == 4:\n",
    "        prob += x0 + x1 + x2 + x3\n",
    "        return prob, x0, x1, x2, x3\n",
    "    elif terms == 5:\n",
    "        prob += x0 + x1 + x2 + x3 + x4\n",
    "        return prob, x0, x1, x2, x3, x4\n",
    "    elif terms == 6:\n",
    "        prob += x0 + x1 + x2 + x3 + x4 + x5\n",
    "        return prob, x0, x1, x2, x3, x4, x5\n",
    "\n",
    "\n",
    "def solve_prob(prob, *x):\n",
    "    status = prob.solve()\n",
    "\n",
    "    # Display if solution found is optimal, feasible, or infeasible\n",
    "    print(pulp.LpStatus[status])\n",
    "\n",
    "    # Display the final value of the decision variables\n",
    "    if len(x[0]) >= 4:\n",
    "        print(f\"x0 = {int(pulp.value(x[0][0]))}\")\n",
    "        print(f\"x1 = {int(pulp.value(x[0][1]))}\")\n",
    "        print(f\"x2 = {int(pulp.value(x[0][2]))}\")\n",
    "        print(f\"x3 = {int(pulp.value(x[0][3]))}\")\n",
    "    if len(x[0]) >= 5:\n",
    "        print(f\"x4 = {int(pulp.value(x[0][4]))}\")\n",
    "    if len(x[0]) >= 6:\n",
    "        print(f\"x5 = {int(pulp.value(x[0][5]))}\")"
   ]
  },
  {
   "cell_type": "code",
   "execution_count": 2,
   "metadata": {},
   "outputs": [
    {
     "name": "stdout",
     "output_type": "stream",
     "text": [
      "Optimal\n",
      "x0 = 2\n",
      "x1 = 25\n",
      "x2 = 16\n",
      "x3 = 18\n"
     ]
    }
   ],
   "source": [
    "# Cell 2 - Octane Combustion Reaction\n",
    "# C8H18 + O2 -> CO2 + H2O\n",
    "\n",
    "prob, *x = init_prob(terms=4)\n",
    "prob += 8 * x[0] == x[2]  # Carbon (C)\n",
    "prob += 18 * x[0] == 2 * x[3]  # Hydrogen (H)\n",
    "prob += 2 * x[1] == 2 * x[2] + x[3]  # Oxygen (O)\n",
    "solve_prob(prob, x)"
   ]
  }
 ],
 "metadata": {
  "kernelspec": {
   "display_name": "qis101",
   "language": "python",
   "name": "python3"
  },
  "language_info": {
   "codemirror_mode": {
    "name": "ipython",
    "version": 3
   },
   "file_extension": ".py",
   "mimetype": "text/x-python",
   "name": "python",
   "nbconvert_exporter": "python",
   "pygments_lexer": "ipython3",
   "version": "3.9.16"
  },
  "orig_nbformat": 4
 },
 "nbformat": 4,
 "nbformat_minor": 2
}
