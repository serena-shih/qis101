{
 "cells": [
  {
   "cell_type": "code",
   "execution_count": 6,
   "metadata": {},
   "outputs": [
    {
     "name": "stdout",
     "output_type": "stream",
     "text": [
      "Octal number: 2323\n",
      "Converted to decimal: 1235\n"
     ]
    }
   ],
   "source": [
    "\"\"\"octal_converter.ipynb\"\"\"\n",
    "# Cell 1 (octal to decimal with looping)\n",
    "\n",
    "octal_num: int = 2323\n",
    "print(f\"Octal number: {octal_num}\")\n",
    "\n",
    "dec_num: int = 0\n",
    "index: int = 0\n",
    "while (octal_num > 0):\n",
    "    digit: int = octal_num % 10\n",
    "    dec_num += digit * (8**index)\n",
    "    octal_num //= 10\n",
    "    index += 1\n",
    "\n",
    "print(f\"Converted to decimal: {dec_num}\")"
   ]
  },
  {
   "cell_type": "code",
   "execution_count": 7,
   "metadata": {},
   "outputs": [
    {
     "name": "stdout",
     "output_type": "stream",
     "text": [
      "Decimal number: 1235\n",
      "Converted to octal: 2323\n"
     ]
    }
   ],
   "source": [
    "# Cell 2 (decimal to octal with looping)\n",
    "\n",
    "dec_num = 1235\n",
    "print(f\"Decimal number: {dec_num}\")\n",
    "\n",
    "oct_num_str: str = \"\"\n",
    "\n",
    "while (dec_num > 0):\n",
    "    digit: int = dec_num % 8\n",
    "    oct_num_str = \"\".join(reversed(oct_num_str)) + str(digit)\n",
    "    oct_num_str = \"\".join(reversed(oct_num_str))\n",
    "    dec_num //= 8\n",
    "\n",
    "print(f\"Converted to octal: {oct_num_str}\")"
   ]
  },
  {
   "cell_type": "code",
   "execution_count": 9,
   "metadata": {},
   "outputs": [
    {
     "name": "stdout",
     "output_type": "stream",
     "text": [
      "Octal number: 2323\n",
      "Converted to decimal: 1235\n"
     ]
    }
   ],
   "source": [
    "# Cell 3 (octal to decimal without looping)\n",
    "\n",
    "oct_num = 2323\n",
    "print(f\"Octal number: {oct_num}\")\n",
    "\n",
    "dec_num = int(str(oct_num), 8)\n",
    "print(f\"Converted to decimal: {dec_num}\")"
   ]
  },
  {
   "cell_type": "code",
   "execution_count": 11,
   "metadata": {},
   "outputs": [
    {
     "name": "stdout",
     "output_type": "stream",
     "text": [
      "Decimal number: 1235\n",
      "Converted to octal: 2323\n"
     ]
    }
   ],
   "source": [
    "# Cell 4 (decimal to octal without looping)\n",
    "\n",
    "dec_num = 1235\n",
    "print(f\"Decimal number: {dec_num}\")\n",
    "\n",
    "oct_num_str = oct(dec_num)\n",
    "print(f\"Converted to octal: {oct_num_str[2:]}\")"
   ]
  }
 ],
 "metadata": {
  "kernelspec": {
   "display_name": "qis101",
   "language": "python",
   "name": "python3"
  },
  "language_info": {
   "codemirror_mode": {
    "name": "ipython",
    "version": 3
   },
   "file_extension": ".py",
   "mimetype": "text/x-python",
   "name": "python",
   "nbconvert_exporter": "python",
   "pygments_lexer": "ipython3",
   "version": "3.9.16"
  },
  "orig_nbformat": 4
 },
 "nbformat": 4,
 "nbformat_minor": 2
}
