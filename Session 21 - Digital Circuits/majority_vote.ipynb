{
 "cells": [
  {
   "cell_type": "code",
   "execution_count": 4,
   "metadata": {},
   "outputs": [],
   "source": [
    "\"\"\"majority_vote.ipynb\"\"\"\n",
    "# Cell 1 (declare all gates and states)\n",
    "\n",
    "from __future__ import annotations\n",
    "import typing\n",
    "import numpy as np\n",
    "if typing.TYPE_CHECKING:\n",
    "    from numpy.typing import NDArray\n",
    "\n",
    "t: NDArray[np.complex_] = np.array([[0], [1]])\n",
    "f: NDArray[np.complex_] = np.array([[1], [0]])\n",
    "\n",
    "and_gate: NDArray[np.complex_] = np.array([[1, 1, 1, 0], [0, 0, 0, 1]])\n",
    "or_gate: NDArray[np.complex_] = np.array([[1, 0, 0, 0], [0, 1, 1, 1]])"
   ]
  },
  {
   "cell_type": "code",
   "execution_count": 5,
   "metadata": {},
   "outputs": [
    {
     "name": "stdout",
     "output_type": "stream",
     "text": [
      "a: [1 0]  b: [1 0]  c: [1 0]  x: [1 0]\n",
      "a: [1 0]  b: [1 0]  c: [0 1]  x: [1 0]\n",
      "a: [1 0]  b: [0 1]  c: [1 0]  x: [1 0]\n",
      "a: [1 0]  b: [0 1]  c: [0 1]  x: [0 1]\n",
      "a: [0 1]  b: [1 0]  c: [1 0]  x: [1 0]\n",
      "a: [0 1]  b: [1 0]  c: [0 1]  x: [0 1]\n",
      "a: [0 1]  b: [0 1]  c: [1 0]  x: [0 1]\n",
      "a: [0 1]  b: [0 1]  c: [0 1]  x: [0 1]\n"
     ]
    }
   ],
   "source": [
    "# Cell 2 (Simulate circuit)\n",
    "\n",
    "def circuit(a: NDArray[np.complex_], b: NDArray[np.complex_], c: NDArray[np.complex_]) -> NDArray[np.complex_]:\n",
    "    top_and: NDArray[np.complex_] = np.dot(and_gate, np.kron(a, c))\n",
    "    mid_and: NDArray[np.complex_] = np.dot(and_gate, np.kron(a, b))\n",
    "    bot_and: NDArray[np.complex_] = np.dot(and_gate, np.kron(b, c))\n",
    "    top_or: NDArray[np.complex_] = np.dot(or_gate, np.kron(top_and, mid_and))\n",
    "    bot_or: NDArray[np.complex_] = np.dot(or_gate, np.kron(mid_and, bot_and))\n",
    "    right_or: NDArray[np.complex_] = np.dot(or_gate, np.kron(top_or, bot_or))\n",
    "\n",
    "    return right_or\n",
    "\n",
    "for a in [f, t]:\n",
    "    for b in [f, t]:\n",
    "        for c in [f, t]:\n",
    "            print(f\"a: [{a[0][0]} {a[1][0]}]\", end=\"  \")\n",
    "            print(f\"b: [{b[0][0]} {b[1][0]}]\", end=\"  \")\n",
    "            print(f\"c: [{c[0][0]} {c[1][0]}]\", end=\"  \")\n",
    "\n",
    "            x: NDArray[np.complex_] = circuit(a, b, c)\n",
    "            print(f\"x: [{x[0][0]} {x[1][0]}]\")\n"
   ]
  }
 ],
 "metadata": {
  "kernelspec": {
   "display_name": "qis101",
   "language": "python",
   "name": "python3"
  },
  "language_info": {
   "codemirror_mode": {
    "name": "ipython",
    "version": 3
   },
   "file_extension": ".py",
   "mimetype": "text/x-python",
   "name": "python",
   "nbconvert_exporter": "python",
   "pygments_lexer": "ipython3",
   "version": "3.9.16"
  },
  "orig_nbformat": 4
 },
 "nbformat": 4,
 "nbformat_minor": 2
}
