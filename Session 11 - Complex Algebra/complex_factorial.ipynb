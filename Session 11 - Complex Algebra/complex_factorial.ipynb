{
 "cells": [
  {
   "cell_type": "code",
   "execution_count": 6,
   "metadata": {},
   "outputs": [
    {
     "name": "stdout",
     "output_type": "stream",
     "text": [
      "i! = (0.498-0.155j)\n"
     ]
    }
   ],
   "source": [
    "\"\"\"complex_factorial.ipynb\"\"\"\n",
    "# Cell 1\n",
    "\n",
    "# Calculate value of i!\n",
    "\n",
    "from scipy.integrate import quad\n",
    "import numpy as np\n",
    "\n",
    "def f_real(x: np.float_) -> np.float_:\n",
    "    return np.exp(-1 * x) * (np.cos(np.log(x)))\n",
    "\n",
    "def f_imag(x: np.float_) -> np.float_:\n",
    "    return np.exp(-1 * x) * (np.sin(np.log(x)))\n",
    "\n",
    "i_fact_real: np.float_ = quad(f_real, 0, np.inf)[0]\n",
    "i_fact_imag: np.float_ = quad(f_imag, 0, np.inf)[0]\n",
    "\n",
    "print(f\"i! = {i_fact_real + 1j * i_fact_imag:.3}\")"
   ]
  }
 ],
 "metadata": {
  "kernelspec": {
   "display_name": "qis101",
   "language": "python",
   "name": "python3"
  },
  "language_info": {
   "codemirror_mode": {
    "name": "ipython",
    "version": 3
   },
   "file_extension": ".py",
   "mimetype": "text/x-python",
   "name": "python",
   "nbconvert_exporter": "python",
   "pygments_lexer": "ipython3",
   "version": "3.9.16"
  },
  "orig_nbformat": 4
 },
 "nbformat": 4,
 "nbformat_minor": 2
}
