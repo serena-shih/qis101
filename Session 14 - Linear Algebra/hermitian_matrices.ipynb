{
 "cells": [
  {
   "cell_type": "code",
   "execution_count": 8,
   "id": "a114f0a9-a0bf-4004-ba16-c135403f320e",
   "metadata": {
    "tags": []
   },
   "outputs": [
    {
     "data": {
      "text/latex": [
       "$\\displaystyle \\begin{bmatrix}5 &4 + 5i &6-16i\\\\4-5i &13 &7\\\\6 + 16i &7 &2.1\\\\\\end{bmatrix}$"
      ],
      "text/plain": [
       "<IPython.core.display.Math object>"
      ]
     },
     "metadata": {},
     "output_type": "display_data"
    },
    {
     "name": "stdout",
     "output_type": "stream",
     "text": [
      "Matrix A is Hermitian: True\n"
     ]
    },
    {
     "data": {
      "text/latex": [
       "$\\displaystyle \\begin{bmatrix}0.005 &-0.007 + 0.026i &0.01-0.051i\\\\-0.007-0.026i &0.059 &0.019 + 0.02i\\\\0.01 + 0.051i &0.019-0.02i &-0.005\\\\\\end{bmatrix}$"
      ],
      "text/plain": [
       "<IPython.core.display.Math object>"
      ]
     },
     "metadata": {},
     "output_type": "display_data"
    },
    {
     "name": "stdout",
     "output_type": "stream",
     "text": [
      "Inverse of matrix A is Hermitian: True\n"
     ]
    }
   ],
   "source": [
    "\"\"\"hermitian_matrices.ipynb\"\"\"\n",
    "\n",
    "# Cell 1 - The inverse of a Hermitian matrix is also Hermitian\n",
    "\n",
    "from __future__ import annotations\n",
    "\n",
    "import typing\n",
    "\n",
    "import numpy as np\n",
    "from IPython.core.display import Math\n",
    "\n",
    "if typing.TYPE_CHECKING:\n",
    "    from numpy.typing import NDArray\n",
    "\n",
    "\n",
    "def display_array(\n",
    "    a: NDArray[np.complex_], places: int = 5, column: bool = False, prefix: str = \"\"\n",
    ") -> None:\n",
    "    def strip(val: float) -> str:\n",
    "        frmt: str = \":.\" + str(places) + \"f\"\n",
    "        d: str = str(\"{v\" + frmt + \"}\").format(v=val)\n",
    "        while d[-1] == \"0\":\n",
    "            d = d[:-1]\n",
    "        if d[-1] == \".\":\n",
    "            d = d[:-1]\n",
    "        if float(d) == 0:\n",
    "            d = \"0\"\n",
    "        return d\n",
    "\n",
    "    m: NDArray[np.complex_] = np.copy(a)\n",
    "    if len(m.shape) == 1:\n",
    "        m = m[np.newaxis, :]\n",
    "        if column:\n",
    "            m = m.T\n",
    "    prec: float = 1 / 10**places\n",
    "    s: str = r\"\\begin{bmatrix}\"\n",
    "    for row in range(m.shape[0]):\n",
    "        for col in range(m.shape[1]):\n",
    "            v: np.complex_ = m[row, col]\n",
    "            real_comp: float = float(np.real(v))\n",
    "            imag_comp: float = float(np.imag(v))\n",
    "            is_imag_neg: bool = imag_comp < 0\n",
    "            is_real_zero: bool = bool(np.isclose(real_comp, 0, atol=prec))\n",
    "            is_imag_zero: bool = bool(np.isclose(imag_comp, 0, atol=prec))\n",
    "            is_imag_one: bool = bool(np.isclose(abs(imag_comp), 1, atol=prec))\n",
    "            if is_real_zero:\n",
    "                if is_imag_zero:\n",
    "                    s += \"0\"\n",
    "            else:\n",
    "                s += strip(real_comp)\n",
    "            if not is_imag_zero:\n",
    "                if is_imag_one:\n",
    "                    if is_imag_neg:\n",
    "                        s += r\"-i\"\n",
    "                    else:\n",
    "                        if not is_real_zero:\n",
    "                            s += \"+\"\n",
    "                        s += r\"i\"\n",
    "                else:\n",
    "                    if not is_real_zero and not is_imag_neg:\n",
    "                        s += \" + \"\n",
    "                    s += strip(imag_comp) + \"i\"\n",
    "            if col < m.shape[1] - 1:\n",
    "                s += \" &\"\n",
    "        s += r\"\\\\\"\n",
    "    s += r\"\\end{bmatrix}\"\n",
    "    display(Math(prefix + s))\n",
    "\n",
    "\n",
    "# TODO: Add your code below this\n",
    "def check_hermitian(mat: NDArray) -> bool:\n",
    "    \"\"\"Check if input matrix is Hermitian\"\"\"\n",
    "    size: float = len(mat)\n",
    "    for i in range(size):\n",
    "        if len(mat[i]) != size:\n",
    "            return False\n",
    "        for j in range(size):\n",
    "            if mat[i][j] != np.conjugate(mat[j][i]):\n",
    "                return False\n",
    "    return True\n",
    "\n",
    "A: NDArray = np.array([[5,4+5*1j,6-16*1j],[4-5*1j,13,7],[6+16*1j,7,2.1]])\n",
    "display_array(A)\n",
    "print(f\"Matrix A is Hermitian: {check_hermitian(A)}\")\n",
    "inv_A: NDArray = np.around(np.linalg.inv(A), 3)\n",
    "display_array(inv_A)\n",
    "print(f\"Inverse of matrix A is Hermitian: {check_hermitian(inv_A)}\")"
   ]
  },
  {
   "cell_type": "code",
   "execution_count": 10,
   "id": "ccf20f1b-fb7f-4246-b58c-dd7a01965f03",
   "metadata": {
    "tags": []
   },
   "outputs": [
    {
     "data": {
      "text/latex": [
       "$\\displaystyle \\begin{bmatrix}1 &0 &0\\\\0 &1 &0\\\\0 &0 &1\\\\\\end{bmatrix}$"
      ],
      "text/plain": [
       "<IPython.core.display.Math object>"
      ]
     },
     "metadata": {},
     "output_type": "display_data"
    },
    {
     "name": "stdout",
     "output_type": "stream",
     "text": [
      "Matrix A to the 0th power is Hermitian: True\n"
     ]
    },
    {
     "data": {
      "text/latex": [
       "$\\displaystyle \\begin{bmatrix}5 &4 + 5i &6-16i\\\\4-5i &13 &7\\\\6 + 16i &7 &2.1\\\\\\end{bmatrix}$"
      ],
      "text/plain": [
       "<IPython.core.display.Math object>"
      ]
     },
     "metadata": {},
     "output_type": "display_data"
    },
    {
     "name": "stdout",
     "output_type": "stream",
     "text": [
      "Matrix A to the 1th power is Hermitian: True\n"
     ]
    },
    {
     "data": {
      "text/latex": [
       "$\\displaystyle \\begin{bmatrix}358 &114-22i &70.6-78.6i\\\\114 + 22i &259 &49.7-94i\\\\70.6 + 78.6i &49.7 + 94i &345.4\\\\\\end{bmatrix}$"
      ],
      "text/plain": [
       "<IPython.core.display.Math object>"
      ]
     },
     "metadata": {},
     "output_type": "display_data"
    },
    {
     "name": "stdout",
     "output_type": "stream",
     "text": [
      "Matrix A to the 2th power is Hermitian: True\n"
     ]
    },
    {
     "data": {
      "text/latex": [
       "$\\displaystyle \\begin{bmatrix}3817.2 &3408.2 + 953.8i &3094.3-6047.1i\\\\3408.2-953.8i &4060.9 &2953.4-1889.4i\\\\3094.3 + 6047.1i &2953.4 + 1889.4i &2754.5\\\\\\end{bmatrix}$"
      ],
      "text/plain": [
       "<IPython.core.display.Math object>"
      ]
     },
     "metadata": {},
     "output_type": "display_data"
    },
    {
     "name": "stdout",
     "output_type": "stream",
     "text": [
      "Matrix A to the 3th power is Hermitian: True\n"
     ]
    },
    {
     "data": {
      "text/latex": [
       "$\\displaystyle \\begin{bmatrix}152806.3 &81235.2-10844i &53258.5-67097.4i\\\\81235.2 + 10844i &91867.1 &39816.8-64221.7i\\\\53258.5 + 67097.4i &39816.8 + 64221.7i &141776.5\\\\\\end{bmatrix}$"
      ],
      "text/plain": [
       "<IPython.core.display.Math object>"
      ]
     },
     "metadata": {},
     "output_type": "display_data"
    },
    {
     "name": "stdout",
     "output_type": "stream",
     "text": [
      "Matrix A to the 4th power is Hermitian: True\n"
     ]
    },
    {
     "data": {
      "text/latex": [
       "$\\displaystyle \\begin{bmatrix}2427862.5 &2040093 + 153377.4i &1597327.4-2661713.9i\\\\2040093-153377.4i &1743710.4 &1387600.5-1369565.1i\\\\1597327.4 + 2661713.9i &1387600.5 + 1369565.1i &1969558.1\\\\\\end{bmatrix}$"
      ],
      "text/plain": [
       "<IPython.core.display.Math object>"
      ]
     },
     "metadata": {},
     "output_type": "display_data"
    },
    {
     "name": "stdout",
     "output_type": "stream",
     "text": [
      "Matrix A to the 5th power is Hermitian: True\n"
     ]
    },
    {
     "data": {
      "text/latex": [
       "$\\displaystyle \\begin{bmatrix}73237957.1 &47413950.2-4498779i &32202213.1-43361757.1i\\\\47413950.2 + 4498779i &41308697.2 &24906453.8-36437838.2i\\\\32202213.1 + 43361757.1i &24906453.8 + 36437838.2i &66020661.7\\\\\\end{bmatrix}$"
      ],
      "text/plain": [
       "<IPython.core.display.Math object>"
      ]
     },
     "metadata": {},
     "output_type": "display_data"
    },
    {
     "name": "stdout",
     "output_type": "stream",
     "text": [
      "Matrix A to the 6th power is Hermitian: True\n"
     ]
    },
    {
     "data": {
      "text/latex": [
       "$\\displaystyle \\begin{bmatrix}1420353084.6 &1134748673.4 + 4173359i &838950041.9-1294358456.6i\\\\1134748673.4-4173359i &878520146.6 &697928598.4-808149990.2i\\\\838950041.9 + 1294358456.6i &697928598.4 + 808149990.2i &1199989959.3\\\\\\end{bmatrix}$"
      ],
      "text/plain": [
       "<IPython.core.display.Math object>"
      ]
     },
     "metadata": {},
     "output_type": "display_data"
    },
    {
     "name": "stdout",
     "output_type": "stream",
     "text": [
      "Matrix A to the 7th power is Hermitian: True\n"
     ]
    },
    {
     "data": {
      "text/latex": [
       "$\\displaystyle \\begin{bmatrix}37405062468 &26305795386.2-1904490105.8i &18227154309.7-25414588600.2i\\\\26305795386.2 + 1904490105.8i &20866123582.6 &14357009379.2-19878133907.7i\\\\18227154309.7 + 25414588600.2i &14357009379.2 + 19878133907.7i &33148914659.6\\\\\\end{bmatrix}$"
      ],
      "text/plain": [
       "<IPython.core.display.Math object>"
      ]
     },
     "metadata": {},
     "output_type": "display_data"
    },
    {
     "name": "stdout",
     "output_type": "stream",
     "text": [
      "Matrix A to the 8th power is Hermitian: True\n"
     ]
    },
    {
     "data": {
      "text/latex": [
       "$\\displaystyle \\begin{bmatrix}798722386816.90002 &619185670060.19995-15635179237.1i &446847966561.59998-665183066289.40002i\\\\619185670060.19995 + 15635179237.1i &467459403243.40002 &364519198784.70001-451209866749.90002i\\\\446847966561.59998 + 665183066289.40002i &364519198784.70001 + 451209866749.90002i &686108129900.90002\\\\\\end{bmatrix}$"
      ],
      "text/plain": [
       "<IPython.core.display.Math object>"
      ]
     },
     "metadata": {},
     "output_type": "display_data"
    },
    {
     "name": "stdout",
     "output_type": "stream",
     "text": [
      "Matrix A to the 9th power is Hermitian: True\n"
     ]
    }
   ],
   "source": [
    "# Cell 2 - A Hermitian matrix raised to an integer\n",
    "#          exponent yields another Hermitian matrix\n",
    "\n",
    "# TODO: Add your code below this\n",
    "max_test_exp: int = 10\n",
    "\n",
    "for i in range(max_test_exp):\n",
    "    mat_exp: NDArray = np.around(np.linalg.matrix_power(A, i), 1)\n",
    "    display_array(mat_exp)\n",
    "    print(f\"Matrix A to the {i}th power is Hermitian: {check_hermitian(mat_exp)}\")"
   ]
  }
 ],
 "metadata": {
  "kernelspec": {
   "display_name": "Python 3 (ipykernel)",
   "language": "python",
   "name": "python3"
  },
  "language_info": {
   "codemirror_mode": {
    "name": "ipython",
    "version": 3
   },
   "file_extension": ".py",
   "mimetype": "text/x-python",
   "name": "python",
   "nbconvert_exporter": "python",
   "pygments_lexer": "ipython3",
   "version": "3.9.16"
  }
 },
 "nbformat": 4,
 "nbformat_minor": 5
}
